{
  "nbformat": 4,
  "nbformat_minor": 0,
  "metadata": {
    "kernelspec": {
      "display_name": "Python 3",
      "language": "python",
      "name": "python3"
    },
    "language_info": {
      "codemirror_mode": {
        "name": "ipython",
        "version": 3
      },
      "file_extension": ".py",
      "mimetype": "text/x-python",
      "name": "python",
      "nbconvert_exporter": "python",
      "pygments_lexer": "ipython3",
      "version": "3.7.7"
    },
    "colab": {
      "name": "team_data_maker.ipynb",
      "provenance": [],
      "collapsed_sections": []
    }
  },
  "cells": [
    {
      "cell_type": "code",
      "source": [
        "%%capture\n",
        "!pip3 install unidecode"
      ],
      "metadata": {
        "id": "9E8izWJnRhyl"
      },
      "execution_count": 1,
      "outputs": []
    },
    {
      "cell_type": "code",
      "source": [
        "TEST=False # doesn't save any files"
      ],
      "metadata": {
        "id": "1kSE1KCJPQwc"
      },
      "execution_count": 2,
      "outputs": []
    },
    {
      "cell_type": "code",
      "metadata": {
        "id": "no2vS8hMwOKt"
      },
      "source": [
        "import pandas as pd\n",
        "import numpy as np\n",
        "import requests\n",
        "from bs4 import BeautifulSoup\n",
        "headers = {'User-Agent': \n",
        "           'Mozilla/5.0 (X11; Linux x86_64) AppleWebKit/537.36 (KHTML, like Gecko) Chrome/47.0.2526.106 Safari/537.36'}"
      ],
      "execution_count": 3,
      "outputs": []
    },
    {
      "cell_type": "code",
      "metadata": {
        "id": "BCRMZZWltIrE"
      },
      "source": [
        "# FBREF, TransferMarkt, FIFA22\n",
        "\n",
        "# TransferMarkt is the naming standard\n",
        "\n",
        "la_liga_teams = [\n",
        "    ('Real Madrid','Real Madrid CF','Real Madrid CF'), \n",
        "    ('Atlético Madrid','Atlético de Madrid','Atlético de Madrid'), \n",
        "    ('Real Sociedad','Real Sociedad','Real Sociedad'), \n",
        "    ('Sevilla','Sevilla FC','Sevilla FC'), \n",
        "    ('Betis','Real Betis Balompié','Real Betis Balompié'), \n",
        "    ('Rayo Vallecano','Rayo Vallecano','Rayo Vallecano'),#\n",
        "    ('Barcelona', 'FC Barcelona','FC Barcelona'),\n",
        "    ('Athletic Club','Athletic Club','Athletic Club de Bilbao'),\n",
        "    ('Espanyol','RCD Espanyol','RCD Espanyol de Barcelona'),#\n",
        "    ('Osasuna','CA Osasuna','CA Osasuna'),\n",
        "    ('Valencia','Valencia CF','Valencia CF'),\n",
        "    ('Villarreal','Villarreal CF','Villarreal CF'),\n",
        "    ('Celta Vigo','RC Celta de Vigo','RC Celta de Vigo'),\n",
        "    ('Mallorca','RCD Mallorca','RCD Mallorca'),#\n",
        "    ('Alavés','Deportivo Alavés','Deportivo Alavés'),\n",
        "    ('Granada','Granada CF','Granada CF'),\n",
        "    ('Elche','Elche CF','Elche CF'),\n",
        "    ('Cádiz','Cádiz CF','Cádiz CF'),\n",
        "    ('Getafe','Getafe CF','Getafe CF'),\n",
        "    ('Levante','Levante UD','Levante Unión Deportiva'),\n",
        "]"
      ],
      "execution_count": 4,
      "outputs": []
    },
    {
      "cell_type": "code",
      "metadata": {
        "id": "LuW3pOzv8DLE"
      },
      "source": [
        "def read_and_clean_data():\n",
        "    df_players = pd.read_csv('players-2.csv') # data about the field players\n",
        "    df_keepers = pd.read_csv('keepers-2.csv') # data about the keepers\n",
        "    df_fifa = pd.read_csv('players_22.csv') # statistics from FIFA22\n",
        "\n",
        "    # desired values from the field players\n",
        "    df_players = df_players[[\n",
        "            'season', 'player', 'position', 'squad', 'age', \n",
        "            'games', 'minutes', 'goals', 'assists', \n",
        "            'cards_yellow', 'cards_red'\n",
        "    ]]\n",
        "\n",
        "    # removing the days in age of the players\n",
        "    age_data = []\n",
        "    for age in np.array(df_players.age):\n",
        "        if isinstance(age, int):\n",
        "            age_data.append(age)\n",
        "        else:\n",
        "            age_data.append(int(age[:2]))\n",
        "\n",
        "    df_players[\"age\"] = np.array(age_data)\n",
        "\n",
        "    # for consistency of the team names\n",
        "    for team in la_liga_teams:\n",
        "        df_players = df_players.replace(team[0], team[1])\n",
        "    for team in la_liga_teams:\n",
        "        df_fifa = df_fifa.replace(team[2], team[1])\n",
        "\n",
        "    return df_players, df_keepers, df_fifa"
      ],
      "execution_count": 5,
      "outputs": []
    },
    {
      "cell_type": "code",
      "metadata": {
        "id": "VEux3TuX9m2c"
      },
      "source": [
        "def get_fifa_data(df_fifa, df_team, team_name):\n",
        "\n",
        "    def data_check(array, value):\n",
        "        if len(np.array(value)) > 0:\n",
        "            array.append(np.array(value)[0])\n",
        "        else:\n",
        "            array.append(np.nan)\n",
        "\n",
        "        return array\n",
        "\n",
        "    overall_values = []\n",
        "    potential_values = []\n",
        "\n",
        "    pace_values = []\n",
        "    shooting_values = []\n",
        "    passing_values = []\n",
        "    dribbling_values = []\n",
        "    defending_values = []\n",
        "    physic_values = []\n",
        "\n",
        "    league_values = []\n",
        "    wage_values = []\n",
        "\n",
        "    base = r'^{}'\n",
        "    expr = '(?=.*{})'\n",
        "\n",
        "    for name in np.array(df_team.player):\n",
        "        names = name.split(' ')\n",
        "        b = base.format(''.join(expr.format(w) for w in names))\n",
        "\n",
        "        player = df_fifa[df_fifa.long_name.str.contains(b) & \n",
        "                        (df_fifa.club_name == team_name)]\n",
        "        \n",
        "        overall_values = data_check(overall_values, player.overall)\n",
        "        potential_values = data_check(potential_values, player.potential)\n",
        "                                      \n",
        "        pace_values = data_check(pace_values, player.pace)\n",
        "        shooting_values = data_check(shooting_values, player.shooting)\n",
        "        passing_values = data_check(passing_values, player.passing)\n",
        "        dribbling_values = data_check(dribbling_values, player.dribbling)\n",
        "        defending_values = data_check(defending_values, player.defending)\n",
        "        physic_values = data_check(physic_values, player.physic)\n",
        "\n",
        "        league_values = data_check(league_values, player.league_name)\n",
        "        wage_values = data_check(wage_values, player.wage_eur)\n",
        "\n",
        "    df_team[\"overall\"] = overall_values\n",
        "    df_team[\"potential\"] = potential_values\n",
        "\n",
        "    df_team[\"pace\"] = pace_values\n",
        "    df_team[\"shooting\"] = shooting_values\n",
        "    df_team[\"passing\"] = passing_values\n",
        "    df_team[\"dribbling\"] = dribbling_values\n",
        "    df_team[\"defending\"] = defending_values\n",
        "    df_team[\"physic\"] = physic_values \n",
        "\n",
        "    df_team[\"league\"] = league_values\n",
        "    df_team[\"wage_eur\"] = wage_values\n",
        "\n",
        "    return df_team"
      ],
      "execution_count": 6,
      "outputs": []
    },
    {
      "cell_type": "code",
      "source": [
        "import unidecode\n",
        "\n",
        "def get_players_link(page):\n",
        "    pageTree = requests.get(page, headers = headers)\n",
        "    pageSoup = BeautifulSoup(pageTree.content, 'html.parser')\n",
        "\n",
        "    PlayersLink = {}\n",
        "\n",
        "    playershtml = pageSoup.find_all(\"td\", {\"class\": \"hauptlink\"})\n",
        "    players = int(str(pageSoup.find(\"span\", {\"class\" : \"dataValue\"}))[len(\"<span class='dataValue'>\"): -len(\"</span>\")])\n",
        "    \n",
        "    for i, v in enumerate(playershtml[:(2*players)]):\n",
        "        if i % 2 != 0:\n",
        "            continue\n",
        "            \n",
        "        link = \"https://www.transfermarkt.co.uk\" + v.find(\"a\")[\"href\"]\n",
        "        name = v.find(\"a\")[\"href\"].split(\"/\")[1].replace(\"-\", \" \")\n",
        "        PlayersLink[name] = link\n",
        "        \n",
        "    return PlayersLink\n",
        "\n",
        "def transfermarkt_get_teams_with_players_link():\n",
        "    page = 'https://www.transfermarkt.es/laliga/startseite/wettbewerb/ES1'\n",
        "    pageTree = requests.get(page, headers = headers)\n",
        "    soup = BeautifulSoup(pageTree.content, 'html.parser')\n",
        "    #Create a dict of {teamName: [link, players_dict]}\n",
        "    teamLinks = {}\n",
        "    teams = set()\n",
        "    #Extract all links with the correct CSS selector\n",
        "    links = soup.select(\"a.vereinprofil_tooltip\")\n",
        "    for name in soup.find_all(\"td\", class_=\"zentriert no-border-rechts\"):\n",
        "        logo = name.find(\"img\")[\"src\"]\n",
        "        teams.add(name.find(\"a\")[\"title\"])\n",
        "        #print(\"added: \", name.find(\"a\")[\"title\"] )\n",
        "        tempLink = \"https://www.transfermarkt.es\"\n",
        "        if \"startseite\" in name.find(\"a\")[\"href\"]:\n",
        "            array = name.find(\"a\")[\"href\"].split(\"/\")[:5]\n",
        "            for i, val in enumerate(array):\n",
        "                if i < 5:\n",
        "                    tempLink += array[i] + \"/\"\n",
        "            teamLinks[name.find(\"a\")[\"title\"]] = [logo, tempLink] \n",
        "    \n",
        "    for team in teamLinks:\n",
        "        link = teamLinks[team][1]\n",
        "        teamLinks[team].append(get_players_link(link))\n",
        "\n",
        "    return teamLinks\n",
        "\n",
        "def get_last_contract_signing(df, team_name, players, team_links):\n",
        "    last_renov = [None]*players.shape[0]\n",
        "\n",
        "    players_link = team_links[team_name][2]\n",
        "    for index, player in enumerate(players):\n",
        "\n",
        "        if unidecode.unidecode(player.lower()) in players_link.keys():\n",
        "            last_renov[index] = get_last_renovation(players_link[unidecode.unidecode(player.lower())])\n",
        "    \n",
        "    df[\"contract_signing\"] = last_renov\n",
        "\n",
        "    return df\n",
        "\n",
        "def get_last_renovation(page):\n",
        "    \n",
        "    pageTree = requests.get(page, headers = headers)\n",
        "    soup = BeautifulSoup(pageTree.content, 'html.parser')\n",
        "    renovation = soup.find(\"span\", class_ = \"info-table__content info-table__content--bold info-table__span--specific\")\n",
        "    if renovation:\n",
        "        return renovation.string\n",
        "    else: \n",
        "        return soup.find_all(\"span\", class_ = \"dataValue\")[-2].string "
      ],
      "metadata": {
        "id": "9FM6xsY1P8wA"
      },
      "execution_count": 7,
      "outputs": []
    },
    {
      "cell_type": "code",
      "metadata": {
        "id": "FjKxXidps7Zs"
      },
      "source": [
        "def get_team(season, team_name):\n",
        "\n",
        "    df_players, df_keepers, df_fifa = read_and_clean_data()\n",
        "\n",
        "    df_team = df_players[df_players[\"squad\"].str.contains(team_name, na=True)]\n",
        "    df_team = df_team[df_team.season == season]\n",
        "\n",
        "    df_team = get_fifa_data(df_fifa, df_team, team_name)\n",
        "\n",
        "    df_team = get_last_contract_signing(df_team, team_name, df_team.player.values, transfermarkt_get_teams_with_players_link())\n",
        "\n",
        "    return df_team"
      ],
      "execution_count": 8,
      "outputs": []
    },
    {
      "cell_type": "code",
      "metadata": {
        "id": "aV6y39Qq9EUw",
        "colab": {
          "base_uri": "https://localhost:8080/"
        },
        "outputId": "a5aa4c2b-2ef9-4866-b510-0817d1694c28"
      },
      "source": [
        "########################################################\n",
        "if not TEST:\n",
        "    dfs_la_liga = []\n",
        "\n",
        "    for _, team_name, _ in la_liga_teams:\n",
        "        print(team_name)\n",
        "        dfs_la_liga.append((team_name, get_team(2022, team_name)))\n",
        "    \n",
        "    pd.concat([team for _, team in dfs_la_liga]).to_csv('la_liga.csv')\n",
        "else:\n",
        "    df_team = get_team(2022, 'Real Madrid CF')\n",
        "########################################################"
      ],
      "execution_count": 9,
      "outputs": [
        {
          "output_type": "stream",
          "name": "stdout",
          "text": [
            "Real Madrid CF\n"
          ]
        },
        {
          "output_type": "stream",
          "name": "stderr",
          "text": [
            "/usr/local/lib/python3.7/dist-packages/IPython/core/interactiveshell.py:2882: DtypeWarning: Columns (5) have mixed types.Specify dtype option on import or set low_memory=False.\n",
            "  exec(code_obj, self.user_global_ns, self.user_ns)\n"
          ]
        },
        {
          "output_type": "stream",
          "name": "stdout",
          "text": [
            "Atlético de Madrid\n"
          ]
        },
        {
          "output_type": "stream",
          "name": "stderr",
          "text": [
            "/usr/local/lib/python3.7/dist-packages/IPython/core/interactiveshell.py:2882: DtypeWarning: Columns (5) have mixed types.Specify dtype option on import or set low_memory=False.\n",
            "  exec(code_obj, self.user_global_ns, self.user_ns)\n"
          ]
        },
        {
          "output_type": "stream",
          "name": "stdout",
          "text": [
            "Real Sociedad\n"
          ]
        },
        {
          "output_type": "stream",
          "name": "stderr",
          "text": [
            "/usr/local/lib/python3.7/dist-packages/IPython/core/interactiveshell.py:2882: DtypeWarning: Columns (5) have mixed types.Specify dtype option on import or set low_memory=False.\n",
            "  exec(code_obj, self.user_global_ns, self.user_ns)\n"
          ]
        },
        {
          "output_type": "stream",
          "name": "stdout",
          "text": [
            "Sevilla FC\n"
          ]
        },
        {
          "output_type": "stream",
          "name": "stderr",
          "text": [
            "/usr/local/lib/python3.7/dist-packages/IPython/core/interactiveshell.py:2882: DtypeWarning: Columns (5) have mixed types.Specify dtype option on import or set low_memory=False.\n",
            "  exec(code_obj, self.user_global_ns, self.user_ns)\n"
          ]
        },
        {
          "output_type": "stream",
          "name": "stdout",
          "text": [
            "Real Betis Balompié\n"
          ]
        },
        {
          "output_type": "stream",
          "name": "stderr",
          "text": [
            "/usr/local/lib/python3.7/dist-packages/IPython/core/interactiveshell.py:2882: DtypeWarning: Columns (5) have mixed types.Specify dtype option on import or set low_memory=False.\n",
            "  exec(code_obj, self.user_global_ns, self.user_ns)\n"
          ]
        },
        {
          "output_type": "stream",
          "name": "stdout",
          "text": [
            "Rayo Vallecano\n"
          ]
        },
        {
          "output_type": "stream",
          "name": "stderr",
          "text": [
            "/usr/local/lib/python3.7/dist-packages/IPython/core/interactiveshell.py:2882: DtypeWarning: Columns (5) have mixed types.Specify dtype option on import or set low_memory=False.\n",
            "  exec(code_obj, self.user_global_ns, self.user_ns)\n"
          ]
        },
        {
          "output_type": "stream",
          "name": "stdout",
          "text": [
            "FC Barcelona\n"
          ]
        },
        {
          "output_type": "stream",
          "name": "stderr",
          "text": [
            "/usr/local/lib/python3.7/dist-packages/IPython/core/interactiveshell.py:2882: DtypeWarning: Columns (5) have mixed types.Specify dtype option on import or set low_memory=False.\n",
            "  exec(code_obj, self.user_global_ns, self.user_ns)\n"
          ]
        },
        {
          "output_type": "stream",
          "name": "stdout",
          "text": [
            "Athletic Club\n"
          ]
        },
        {
          "output_type": "stream",
          "name": "stderr",
          "text": [
            "/usr/local/lib/python3.7/dist-packages/IPython/core/interactiveshell.py:2882: DtypeWarning: Columns (5) have mixed types.Specify dtype option on import or set low_memory=False.\n",
            "  exec(code_obj, self.user_global_ns, self.user_ns)\n"
          ]
        },
        {
          "output_type": "stream",
          "name": "stdout",
          "text": [
            "RCD Espanyol\n"
          ]
        },
        {
          "output_type": "stream",
          "name": "stderr",
          "text": [
            "/usr/local/lib/python3.7/dist-packages/IPython/core/interactiveshell.py:2882: DtypeWarning: Columns (5) have mixed types.Specify dtype option on import or set low_memory=False.\n",
            "  exec(code_obj, self.user_global_ns, self.user_ns)\n"
          ]
        },
        {
          "output_type": "stream",
          "name": "stdout",
          "text": [
            "CA Osasuna\n"
          ]
        },
        {
          "output_type": "stream",
          "name": "stderr",
          "text": [
            "/usr/local/lib/python3.7/dist-packages/IPython/core/interactiveshell.py:2882: DtypeWarning: Columns (5) have mixed types.Specify dtype option on import or set low_memory=False.\n",
            "  exec(code_obj, self.user_global_ns, self.user_ns)\n"
          ]
        },
        {
          "output_type": "stream",
          "name": "stdout",
          "text": [
            "Valencia CF\n"
          ]
        },
        {
          "output_type": "stream",
          "name": "stderr",
          "text": [
            "/usr/local/lib/python3.7/dist-packages/IPython/core/interactiveshell.py:2882: DtypeWarning: Columns (5) have mixed types.Specify dtype option on import or set low_memory=False.\n",
            "  exec(code_obj, self.user_global_ns, self.user_ns)\n"
          ]
        },
        {
          "output_type": "stream",
          "name": "stdout",
          "text": [
            "Villarreal CF\n"
          ]
        },
        {
          "output_type": "stream",
          "name": "stderr",
          "text": [
            "/usr/local/lib/python3.7/dist-packages/IPython/core/interactiveshell.py:2882: DtypeWarning: Columns (5) have mixed types.Specify dtype option on import or set low_memory=False.\n",
            "  exec(code_obj, self.user_global_ns, self.user_ns)\n"
          ]
        },
        {
          "output_type": "stream",
          "name": "stdout",
          "text": [
            "RC Celta de Vigo\n"
          ]
        },
        {
          "output_type": "stream",
          "name": "stderr",
          "text": [
            "/usr/local/lib/python3.7/dist-packages/IPython/core/interactiveshell.py:2882: DtypeWarning: Columns (5) have mixed types.Specify dtype option on import or set low_memory=False.\n",
            "  exec(code_obj, self.user_global_ns, self.user_ns)\n"
          ]
        },
        {
          "output_type": "stream",
          "name": "stdout",
          "text": [
            "RCD Mallorca\n"
          ]
        },
        {
          "output_type": "stream",
          "name": "stderr",
          "text": [
            "/usr/local/lib/python3.7/dist-packages/IPython/core/interactiveshell.py:2882: DtypeWarning: Columns (5) have mixed types.Specify dtype option on import or set low_memory=False.\n",
            "  exec(code_obj, self.user_global_ns, self.user_ns)\n"
          ]
        },
        {
          "output_type": "stream",
          "name": "stdout",
          "text": [
            "Deportivo Alavés\n"
          ]
        },
        {
          "output_type": "stream",
          "name": "stderr",
          "text": [
            "/usr/local/lib/python3.7/dist-packages/IPython/core/interactiveshell.py:2882: DtypeWarning: Columns (5) have mixed types.Specify dtype option on import or set low_memory=False.\n",
            "  exec(code_obj, self.user_global_ns, self.user_ns)\n"
          ]
        },
        {
          "output_type": "stream",
          "name": "stdout",
          "text": [
            "Granada CF\n"
          ]
        },
        {
          "output_type": "stream",
          "name": "stderr",
          "text": [
            "/usr/local/lib/python3.7/dist-packages/IPython/core/interactiveshell.py:2882: DtypeWarning: Columns (5) have mixed types.Specify dtype option on import or set low_memory=False.\n",
            "  exec(code_obj, self.user_global_ns, self.user_ns)\n"
          ]
        },
        {
          "output_type": "stream",
          "name": "stdout",
          "text": [
            "Elche CF\n"
          ]
        },
        {
          "output_type": "stream",
          "name": "stderr",
          "text": [
            "/usr/local/lib/python3.7/dist-packages/IPython/core/interactiveshell.py:2882: DtypeWarning: Columns (5) have mixed types.Specify dtype option on import or set low_memory=False.\n",
            "  exec(code_obj, self.user_global_ns, self.user_ns)\n"
          ]
        },
        {
          "output_type": "stream",
          "name": "stdout",
          "text": [
            "Cádiz CF\n"
          ]
        },
        {
          "output_type": "stream",
          "name": "stderr",
          "text": [
            "/usr/local/lib/python3.7/dist-packages/IPython/core/interactiveshell.py:2882: DtypeWarning: Columns (5) have mixed types.Specify dtype option on import or set low_memory=False.\n",
            "  exec(code_obj, self.user_global_ns, self.user_ns)\n"
          ]
        },
        {
          "output_type": "stream",
          "name": "stdout",
          "text": [
            "Getafe CF\n"
          ]
        },
        {
          "output_type": "stream",
          "name": "stderr",
          "text": [
            "/usr/local/lib/python3.7/dist-packages/IPython/core/interactiveshell.py:2882: DtypeWarning: Columns (5) have mixed types.Specify dtype option on import or set low_memory=False.\n",
            "  exec(code_obj, self.user_global_ns, self.user_ns)\n"
          ]
        },
        {
          "output_type": "stream",
          "name": "stdout",
          "text": [
            "Levante UD\n"
          ]
        },
        {
          "output_type": "stream",
          "name": "stderr",
          "text": [
            "/usr/local/lib/python3.7/dist-packages/IPython/core/interactiveshell.py:2882: DtypeWarning: Columns (5) have mixed types.Specify dtype option on import or set low_memory=False.\n",
            "  exec(code_obj, self.user_global_ns, self.user_ns)\n"
          ]
        }
      ]
    },
    {
      "cell_type": "markdown",
      "metadata": {
        "id": "6UhoEHXIYyWt"
      },
      "source": [
        "### JSON maker"
      ]
    },
    {
      "cell_type": "code",
      "metadata": {
        "id": "jQO5DlTQ71QT"
      },
      "source": [
        "import json\n",
        "\n",
        "# makes JSON file for our MongoDB database\n",
        "def team_dictionary(df_team, team_name):\n",
        "\n",
        "    df_team = df_team.where(pd.notnull(df_team), None)\n",
        "\n",
        "    players = df_team.T.to_dict()\n",
        "\n",
        "    team = [players[key] for key in players]\n",
        "\n",
        "    final_object = {\n",
        "        'team': team_name,\n",
        "        'players': team\n",
        "    }\n",
        "\n",
        "    return final_object\n",
        "        \n",
        "    with open(file_name, \"w\") as outfile:\n",
        "        json.dump(final_object, outfile)"
      ],
      "execution_count": 11,
      "outputs": []
    },
    {
      "cell_type": "code",
      "metadata": {
        "id": "bigEABBm8KbF"
      },
      "source": [
        "if not TEST:\n",
        "\n",
        "    file_name = 'laliga.json'\n",
        "\n",
        "    league_dictionary = {\n",
        "        'league_name': 'Spain Primera Division',\n",
        "        'teams': {},\n",
        "        }\n",
        "\n",
        "    for team_name, team_data in dfs_la_liga:\n",
        "        league_dictionary['teams'][team_name] = team_dictionary(team_data, team_name)\n",
        "\n",
        "    with open(file_name, \"w\") as outfile:\n",
        "        json.dump(league_dictionary, outfile)"
      ],
      "execution_count": 20,
      "outputs": []
    },
    {
      "cell_type": "code",
      "source": [
        ""
      ],
      "metadata": {
        "id": "3xmnO5RJd9g8"
      },
      "execution_count": null,
      "outputs": []
    }
  ]
}