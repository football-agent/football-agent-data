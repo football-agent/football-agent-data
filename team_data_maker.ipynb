{
  "cells": [
    {
      "cell_type": "code",
      "execution_count": 1,
      "metadata": {
        "id": "no2vS8hMwOKt"
      },
      "outputs": [],
      "source": [
        "import pandas as pd\n",
        "import numpy as np"
      ]
    },
    {
      "cell_type": "code",
      "execution_count": 1,
      "metadata": {
        "id": "BCRMZZWltIrE"
      },
      "outputs": [],
      "source": [
        "# FBREF, SoccerPrime, FIFA22\n",
        "\n",
        "# SoccerPrime is the naming standard\n",
        "\n",
        "la_liga_teams = [\n",
        "    ('Real Madrid','Real Madrid','Real Madrid CF'), \n",
        "    ('Atlético Madrid','Atletico Madrid','Atlético de Madrid'), \n",
        "    ('Real Sociedad','Real Sociedad','Real Sociedad'), \n",
        "    ('Sevilla','Sevilla FC','Sevilla FC'), \n",
        "    ('Betis','Real Betis','Real Betis Balompié'), \n",
        "    # ('Rayo Vallecano',,'Rayo Vallecano'),#\n",
        "    ('Barcelona', 'FC Barcelona','FC Barcelona'),\n",
        "    ('Athletic Club','Athletic Bilbao','Athletic Club de Bilbao'),\n",
        "    # ('Espanyol',,'RCD Espanyol de Barcelona'),#\n",
        "    ('Osasuna','CA Osasuna','CA Osasuna'),\n",
        "    ('Valencia','Valencia CF','Valencia CF'),\n",
        "    ('Villarreal','Villarreal CF','Villarreal CF'),\n",
        "    ('Celta Vigo','Celta Vigo','RC Celta de Vigo'),\n",
        "    # ('Mallorca',,'RCD Mallorca'),#\n",
        "    ('Alavés','Deportivo Alaves','Deportivo Alavés'),\n",
        "    ('Granada','Granada CF','Granada CF'),\n",
        "    ('Elche','Elche CF','Elche CF'),\n",
        "    ('Cádiz','Cádiz CF','Cádiz CF'),\n",
        "    ('Getafe','Getafe CF','Getafe CF'),\n",
        "    ('Levante','Levante UD','Levante Unión Deportiva'),\n",
        "]"
      ]
    },
    {
      "cell_type": "code",
      "execution_count": 2,
      "metadata": {
        "id": "LuW3pOzv8DLE"
      },
      "outputs": [],
      "source": [
        "def read_and_clean_data():\n",
        "    df_players = pd.read_csv('players-2.csv') # data about the field players\n",
        "    df_keepers = pd.read_csv('keepers-2.csv') # data about the keepers\n",
        "    df_fifa = pd.read_csv('players_22.csv') # statistics from FIFA22\n",
        "\n",
        "    # desired values from the field players\n",
        "    df_players = df_players[[\n",
        "            'season', 'player', 'position', 'squad', 'age', \n",
        "            'games', 'minutes', 'goals', 'assists', \n",
        "            'cards_yellow', 'cards_red'\n",
        "    ]]\n",
        "\n",
        "    # removing the days in age of the players\n",
        "    age_data = []\n",
        "    for age in np.array(df_players.age):\n",
        "        if isinstance(age, int):\n",
        "            age_data.append(age)\n",
        "        else:\n",
        "            age_data.append(int(age[:2]))\n",
        "\n",
        "    df_players[\"age\"] = np.array(age_data)\n",
        "\n",
        "    # for consistency of the team names\n",
        "    for team in la_liga_teams:\n",
        "        df_players = df_players.replace(team[0], team[1])\n",
        "    for team in la_liga_teams:\n",
        "        df_fifa = df_fifa.replace(team[2], team[1])\n",
        "\n",
        "    return df_players, df_keepers, df_fifa"
      ]
    },
    {
      "cell_type": "code",
      "execution_count": 3,
      "metadata": {
        "id": "VEux3TuX9m2c"
      },
      "outputs": [],
      "source": [
        "def get_fifa_data(df_fifa, df_team, team_name):\n",
        "\n",
        "    def data_check(array, value):\n",
        "        if len(np.array(value)) > 0:\n",
        "            array.append(np.array(value)[0])\n",
        "        else:\n",
        "            array.append(np.nan)\n",
        "\n",
        "        return array\n",
        "\n",
        "    overall_values = []\n",
        "    potential_values = []\n",
        "\n",
        "    pace_values = []\n",
        "    shooting_values = []\n",
        "    passing_values = []\n",
        "    dribbling_values = []\n",
        "    defending_values = []\n",
        "    physic_values = []\n",
        "\n",
        "    base = r'^{}'\n",
        "    expr = '(?=.*{})'\n",
        "\n",
        "    for name in np.array(df_team.player):\n",
        "        names = name.split(' ')\n",
        "        b = base.format(''.join(expr.format(w) for w in names))\n",
        "\n",
        "        player = df_fifa[df_fifa.long_name.str.contains(b) & \n",
        "                        (df_fifa.club_name == team_name)]\n",
        "        \n",
        "        overall_values = data_check(overall_values, player.overall)\n",
        "        potential_values = data_check(potential_values, player.potential)\n",
        "                                      \n",
        "        pace_values = data_check(pace_values, player.pace)\n",
        "        shooting_values = data_check(shooting_values, player.shooting)\n",
        "        passing_values = data_check(passing_values, player.passing)\n",
        "        dribbling_values = data_check(dribbling_values, player.dribbling)\n",
        "        defending_values = data_check(defending_values, player.defending)\n",
        "        physic_values = data_check(physic_values, player.physic)\n",
        "\n",
        "    df_team[\"overall\"] = overall_values\n",
        "    df_team[\"potential\"] = potential_values\n",
        "\n",
        "    df_team[\"pace\"] = pace_values\n",
        "    df_team[\"shooting\"] = shooting_values\n",
        "    df_team[\"passing\"] = passing_values\n",
        "    df_team[\"dribbling\"] = dribbling_values\n",
        "    df_team[\"defending\"] = defending_values\n",
        "    df_team[\"physic\"] = physic_values \n",
        "\n",
        "    return df_team"
      ]
    },
    {
      "cell_type": "code",
      "execution_count": 4,
      "metadata": {
        "id": "FjKxXidps7Zs"
      },
      "outputs": [],
      "source": [
        "def get_team(season, team_name):\n",
        "\n",
        "    df_players, df_keepers, df_fifa = read_and_clean_data()\n",
        "\n",
        "    df_team = df_players[df_players[\"squad\"].str.contains(team_name, na=True)]\n",
        "    df_team = df_team[df_team.season == season]\n",
        "\n",
        "    df_team = get_fifa_data(df_fifa, df_team, team_name)\n",
        "\n",
        "    return df_team"
      ]
    },
    {
      "cell_type": "code",
      "execution_count": 10,
      "metadata": {
        "colab": {
          "base_uri": "https://localhost:8080/",
          "height": 954
        },
        "id": "aV6y39Qq9EUw",
        "outputId": "c51be6ed-5fa5-4510-b9a4-7849b7c1beef"
      },
      "outputs": [
        {
          "ename": "NameError",
          "evalue": "name 'pd' is not defined",
          "output_type": "error",
          "traceback": [
            "\u001b[0;31m---------------------------------------------------------------------------\u001b[0m",
            "\u001b[0;31mNameError\u001b[0m                                 Traceback (most recent call last)",
            "\u001b[0;32m<ipython-input-10-3877656ba1f4>\u001b[0m in \u001b[0;36m<module>\u001b[0;34m\u001b[0m\n\u001b[1;32m      1\u001b[0m \u001b[0;32mimport\u001b[0m \u001b[0mplotly\u001b[0m\u001b[0;34m.\u001b[0m\u001b[0mio\u001b[0m \u001b[0;32mas\u001b[0m \u001b[0mpio\u001b[0m\u001b[0;34m\u001b[0m\u001b[0;34m\u001b[0m\u001b[0m\n\u001b[1;32m      2\u001b[0m \u001b[0mpio\u001b[0m\u001b[0;34m.\u001b[0m\u001b[0mrenderers\u001b[0m\u001b[0;34m.\u001b[0m\u001b[0mdefault\u001b[0m \u001b[0;34m=\u001b[0m \u001b[0;34m'iframe_connected'\u001b[0m\u001b[0;34m\u001b[0m\u001b[0;34m\u001b[0m\u001b[0m\n\u001b[0;32m----> 3\u001b[0;31m \u001b[0mget_team\u001b[0m\u001b[0;34m(\u001b[0m\u001b[0;36m2022\u001b[0m\u001b[0;34m,\u001b[0m \u001b[0;34m'Real Betis'\u001b[0m\u001b[0;34m)\u001b[0m\u001b[0;34m\u001b[0m\u001b[0;34m\u001b[0m\u001b[0m\n\u001b[0m\u001b[1;32m      4\u001b[0m \u001b[0;34m\u001b[0m\u001b[0m\n",
            "\u001b[0;32m<ipython-input-4-897cee831820>\u001b[0m in \u001b[0;36mget_team\u001b[0;34m(season, team_name)\u001b[0m\n\u001b[1;32m      1\u001b[0m \u001b[0;32mdef\u001b[0m \u001b[0mget_team\u001b[0m\u001b[0;34m(\u001b[0m\u001b[0mseason\u001b[0m\u001b[0;34m,\u001b[0m \u001b[0mteam_name\u001b[0m\u001b[0;34m)\u001b[0m\u001b[0;34m:\u001b[0m\u001b[0;34m\u001b[0m\u001b[0;34m\u001b[0m\u001b[0m\n\u001b[1;32m      2\u001b[0m \u001b[0;34m\u001b[0m\u001b[0m\n\u001b[0;32m----> 3\u001b[0;31m     \u001b[0mdf_players\u001b[0m\u001b[0;34m,\u001b[0m \u001b[0mdf_keepers\u001b[0m\u001b[0;34m,\u001b[0m \u001b[0mdf_fifa\u001b[0m \u001b[0;34m=\u001b[0m \u001b[0mread_and_clean_data\u001b[0m\u001b[0;34m(\u001b[0m\u001b[0;34m)\u001b[0m\u001b[0;34m\u001b[0m\u001b[0;34m\u001b[0m\u001b[0m\n\u001b[0m\u001b[1;32m      4\u001b[0m \u001b[0;34m\u001b[0m\u001b[0m\n\u001b[1;32m      5\u001b[0m     \u001b[0mdf_team\u001b[0m \u001b[0;34m=\u001b[0m \u001b[0mdf_players\u001b[0m\u001b[0;34m[\u001b[0m\u001b[0mdf_players\u001b[0m\u001b[0;34m[\u001b[0m\u001b[0;34m\"squad\"\u001b[0m\u001b[0;34m]\u001b[0m\u001b[0;34m.\u001b[0m\u001b[0mstr\u001b[0m\u001b[0;34m.\u001b[0m\u001b[0mcontains\u001b[0m\u001b[0;34m(\u001b[0m\u001b[0mteam_name\u001b[0m\u001b[0;34m,\u001b[0m \u001b[0mna\u001b[0m\u001b[0;34m=\u001b[0m\u001b[0;32mTrue\u001b[0m\u001b[0;34m)\u001b[0m\u001b[0;34m]\u001b[0m\u001b[0;34m\u001b[0m\u001b[0;34m\u001b[0m\u001b[0m\n",
            "\u001b[0;32m<ipython-input-2-de5190c508ef>\u001b[0m in \u001b[0;36mread_and_clean_data\u001b[0;34m()\u001b[0m\n\u001b[1;32m      1\u001b[0m \u001b[0;32mdef\u001b[0m \u001b[0mread_and_clean_data\u001b[0m\u001b[0;34m(\u001b[0m\u001b[0;34m)\u001b[0m\u001b[0;34m:\u001b[0m\u001b[0;34m\u001b[0m\u001b[0;34m\u001b[0m\u001b[0m\n\u001b[0;32m----> 2\u001b[0;31m     \u001b[0mdf_players\u001b[0m \u001b[0;34m=\u001b[0m \u001b[0mpd\u001b[0m\u001b[0;34m.\u001b[0m\u001b[0mread_csv\u001b[0m\u001b[0;34m(\u001b[0m\u001b[0;34m'players-2.csv'\u001b[0m\u001b[0;34m)\u001b[0m \u001b[0;31m# data about the field players\u001b[0m\u001b[0;34m\u001b[0m\u001b[0;34m\u001b[0m\u001b[0m\n\u001b[0m\u001b[1;32m      3\u001b[0m     \u001b[0mdf_keepers\u001b[0m \u001b[0;34m=\u001b[0m \u001b[0mpd\u001b[0m\u001b[0;34m.\u001b[0m\u001b[0mread_csv\u001b[0m\u001b[0;34m(\u001b[0m\u001b[0;34m'keepers-2.csv'\u001b[0m\u001b[0;34m)\u001b[0m \u001b[0;31m# data about the keepers\u001b[0m\u001b[0;34m\u001b[0m\u001b[0;34m\u001b[0m\u001b[0m\n\u001b[1;32m      4\u001b[0m     \u001b[0mdf_fifa\u001b[0m \u001b[0;34m=\u001b[0m \u001b[0mpd\u001b[0m\u001b[0;34m.\u001b[0m\u001b[0mread_csv\u001b[0m\u001b[0;34m(\u001b[0m\u001b[0;34m'players_22.csv'\u001b[0m\u001b[0;34m)\u001b[0m \u001b[0;31m# statistics from FIFA22\u001b[0m\u001b[0;34m\u001b[0m\u001b[0;34m\u001b[0m\u001b[0m\n\u001b[1;32m      5\u001b[0m \u001b[0;34m\u001b[0m\u001b[0m\n",
            "\u001b[0;31mNameError\u001b[0m: name 'pd' is not defined"
          ]
        }
      ],
      "source": [
        "import plotly.io as pio\n",
        "pio.renderers.default = 'iframe_connected'\n",
        "get_team(2022, 'Real Betis')\n"
      ]
    },
    {
      "cell_type": "markdown",
      "metadata": {
        "id": "6UhoEHXIYyWt"
      },
      "source": [
        "### JSON maker"
      ]
    },
    {
      "cell_type": "code",
      "execution_count": 10,
      "metadata": {
        "id": "jQO5DlTQ71QT"
      },
      "outputs": [],
      "source": [
        "import json\n",
        "\n",
        "# makes JSON file for our MongoDB database\n",
        "def make_json(df_team, team_name, file_name):\n",
        "\n",
        "    players = df_team.T.to_dict()\n",
        "\n",
        "    team = [players[key] for key in players]\n",
        "\n",
        "    final_object = {\n",
        "        'team': team_name,\n",
        "        'players': team\n",
        "    }\n",
        "        \n",
        "    with open(file_name, \"w\") as outfile:\n",
        "        json.dump(final_object, outfile)"
      ]
    },
    {
      "cell_type": "code",
      "execution_count": null,
      "metadata": {
        "id": "bigEABBm8KbF"
      },
      "outputs": [],
      "source": []
    }
  ],
  "metadata": {
    "colab": {
      "collapsed_sections": [],
      "name": "team_data_maker.ipynb",
      "provenance": []
    },
    "kernelspec": {
      "display_name": "Python 3",
      "language": "python",
      "name": "python3"
    },
    "language_info": {
      "codemirror_mode": {
        "name": "ipython",
        "version": 3
      },
      "file_extension": ".py",
      "mimetype": "text/x-python",
      "name": "python",
      "nbconvert_exporter": "python",
      "pygments_lexer": "ipython3",
      "version": "3.9.5"
    }
  },
  "nbformat": 4,
  "nbformat_minor": 0
}
