{
  "nbformat": 4,
  "nbformat_minor": 0,
  "metadata": {
    "colab": {
      "name": "_add_images.ipynb",
      "provenance": [],
      "collapsed_sections": []
    },
    "kernelspec": {
      "name": "python3",
      "display_name": "Python 3"
    },
    "language_info": {
      "name": "python"
    }
  },
  "cells": [
    {
      "cell_type": "code",
      "source": [
        "# https://www.kaggle.com/ekrembayar/an-introduction-to-football-analytics"
      ],
      "metadata": {
        "id": "Tr9s72Fgak-B"
      },
      "execution_count": null,
      "outputs": []
    },
    {
      "cell_type": "code",
      "source": [
        "!pip install pyjsparser\n",
        "!pip install js2xml"
      ],
      "metadata": {
        "colab": {
          "base_uri": "https://localhost:8080/"
        },
        "id": "Pd5h8S2ku0D-",
        "outputId": "5c0f186a-4952-4bdb-991c-8b29f82e6612"
      },
      "execution_count": null,
      "outputs": [
        {
          "output_type": "stream",
          "name": "stdout",
          "text": [
            "Collecting pyjsparser\n",
            "  Downloading pyjsparser-2.7.1.tar.gz (24 kB)\n",
            "Building wheels for collected packages: pyjsparser\n",
            "  Building wheel for pyjsparser (setup.py) ... \u001b[?25l\u001b[?25hdone\n",
            "  Created wheel for pyjsparser: filename=pyjsparser-2.7.1-py3-none-any.whl size=26000 sha256=3a6d691f4ef4fb4aa60912670f93c660f259d95663aabbb7ae3fc2a60a5aa625\n",
            "  Stored in directory: /root/.cache/pip/wheels/2a/80/ac/dcd2bdbd03dd2b7b7e2bf3e5afbda6a1ab7935bbce314969da\n",
            "Successfully built pyjsparser\n",
            "Installing collected packages: pyjsparser\n",
            "Successfully installed pyjsparser-2.7.1\n",
            "Collecting js2xml\n",
            "  Downloading js2xml-0.4.0-py2.py3-none-any.whl (8.9 kB)\n",
            "Collecting calmjs.parse\n",
            "  Downloading calmjs.parse-1.3.0-py3-none-any.whl (291 kB)\n",
            "\u001b[K     |████████████████████████████████| 291 kB 25.0 MB/s \n",
            "\u001b[?25hRequirement already satisfied: six in /usr/local/lib/python3.7/dist-packages (from js2xml) (1.15.0)\n",
            "Requirement already satisfied: lxml in /usr/local/lib/python3.7/dist-packages (from js2xml) (4.2.6)\n",
            "Collecting ply>=3.6\n",
            "  Downloading ply-3.11-py2.py3-none-any.whl (49 kB)\n",
            "\u001b[K     |████████████████████████████████| 49 kB 7.2 MB/s \n",
            "\u001b[?25hRequirement already satisfied: setuptools in /usr/local/lib/python3.7/dist-packages (from calmjs.parse->js2xml) (57.4.0)\n",
            "Installing collected packages: ply, calmjs.parse, js2xml\n",
            "Successfully installed calmjs.parse-1.3.0 js2xml-0.4.0 ply-3.11\n"
          ]
        }
      ]
    },
    {
      "cell_type": "code",
      "source": [
        "# Base\n",
        "import pandas as pd\n",
        "import numpy as np\n",
        "\n",
        "# Visualization\n",
        "import plotly.express as ex\n",
        "\n",
        "# Web Scraping\n",
        "import requests\n",
        "from bs4 import BeautifulSoup\n",
        "# !pip install pyjsparser\n",
        "# from pyjsparser import parse\n",
        "import pyjsparser\n",
        "\n",
        "# Time Sleep\n",
        "import sys\n",
        "import time\n",
        "from datetime import datetime\n",
        "from termcolor import colored\n",
        "\n",
        "# GC\n",
        "import gc\n",
        "\n",
        "# Itertools\n",
        "import itertools\n",
        "\n",
        "# Grafikten Data Çekmek için\n",
        "import re\n",
        "import js2xml\n",
        "from itertools import repeat    \n",
        "from pprint import pprint as pp\n",
        "\n",
        "# String Manipulation\n",
        "import re \n",
        "\n",
        "# Configurations\n",
        "import warnings\n",
        "warnings.filterwarnings(\"ignore\")\n",
        "warnings.simplefilter(action='ignore', category=FutureWarning)\n",
        "pd.set_option('display.max_columns', None)\n",
        "\n",
        "# Helpers\n",
        "# -----------------------------------------------------------------------------\n",
        "# To learn process time\n",
        "def get_time(cond):\n",
        "    if cond == \"start\":\n",
        "        p = \"This process started at \"\n",
        "    elif cond == \"end\":\n",
        "        p = \"The process completed at \"\n",
        "    print(\"\") \n",
        "    print(colored(p + str(datetime.now().strftime(\"%H:%M:%S\")), \"green\", \"on_white\", attrs=[\"bold\",'reverse', 'blink']))\n",
        "    \n",
        "    \n",
        "def Filter(string, substr): \n",
        "        return [str for str in string if\n",
        "                any(sub in str for sub in substr)] \n",
        "    \n",
        "def NOTFilter(string, substr): \n",
        "    return [str for str in string if\n",
        "            any(sub not in str for sub in substr)] "
      ],
      "metadata": {
        "colab": {
          "base_uri": "https://localhost:8080/"
        },
        "id": "f4ZL-I73uu19",
        "outputId": "f2d2f652-b66a-41df-a080-1cf9f66e766a"
      },
      "execution_count": null,
      "outputs": [
        {
          "output_type": "stream",
          "name": "stderr",
          "text": [
            "WARNING: Token 'BLOCK_COMMENT' defined, but not used\n",
            "WARNING: Token 'LINE_COMMENT' defined, but not used\n",
            "WARNING: Token 'LINE_TERMINATOR' defined, but not used\n",
            "WARNING: There are 3 unused tokens\n"
          ]
        }
      ]
    },
    {
      "cell_type": "code",
      "execution_count": null,
      "metadata": {
        "id": "-MYOuclfuoic"
      },
      "outputs": [],
      "source": [
        "# England: 9 | Italy: 11 | Spain: 12 | France: 13 | Germany: 20\n",
        "def fbref_league_history(league_id = [9,11,12,13,20], first_season = 2017):\n",
        "    history = []\n",
        "    for i in league_id:\n",
        "        comp_history_url = \"https://fbref.com/en/comps/\" + str(i) + \"/history\" \n",
        "        #print(comp_history_url)\n",
        "\n",
        "        r=requests.get(comp_history_url)\n",
        "        soup=BeautifulSoup(r.content, \"html.parser\")\n",
        "\n",
        "        # Tablodan tüm sezonun bilgilerine ulaşılır.\n",
        "        find_seasons = soup.find_all(class_ = \"left\")\n",
        "\n",
        "        all_seasons_url = []\n",
        "        for k in range(0, len(find_seasons)):\n",
        "            if find_seasons[k].get('data-stat') == \"season\":\n",
        "                temp = \"https://fbref.com\" + find_seasons[k].find_all(\"a\")[0].attrs[\"href\"]\n",
        "                all_seasons_url.append(temp)\n",
        "\n",
        "        history.append(all_seasons_url)\n",
        "        time.sleep(0.1)\n",
        "\n",
        "    # Tüm historyler tek bir arrayde\n",
        "    history  = list(itertools.chain(*history))\n",
        "\n",
        "    seasons = list(map(lambda x: str(x)+\"-\"+str(x+1), np.arange(1950, first_season, 1)))\n",
        "    for i in seasons:\n",
        "        history = NOTFilter(history, [i])\n",
        "    del seasons\n",
        "\n",
        "    # history = NOTFilter(history, [\"2021-2022\"])\n",
        "\n",
        "    return history\n",
        "\n",
        "# Test for Big 5\n",
        "history = fbref_league_history(league_id = [9,11,12,13,20])"
      ]
    },
    {
      "cell_type": "code",
      "source": [
        "def fbref_team_url_history(league_history):\n",
        "    team_season_url = []\n",
        "    for league_season_url in league_history:\n",
        "        r=requests.get(league_season_url)\n",
        "        soup=BeautifulSoup(r.content, \"html.parser\")\n",
        "        teams = soup.find(\"table\").find_all(\"a\")\n",
        "        teams = list(map(lambda x: \"https://fbref.com\" + x[\"href\"], teams))\n",
        "        teams = Filter(teams, [\"/en/squads/\"])\n",
        "        team_season_url.append(teams)\n",
        "\n",
        "    # Tüm historyler tek bir arrayde\n",
        "    team_season_url  = list(itertools.chain(*team_season_url))\n",
        "    return team_season_url\n",
        "\n",
        "team_season_url = fbref_team_url_history(history)"
      ],
      "metadata": {
        "id": "cMbo7m8Iu5F7"
      },
      "execution_count": null,
      "outputs": []
    },
    {
      "cell_type": "code",
      "source": [
        "def fbref_player_url(team_season_url):\n",
        "    player_url = []\n",
        "    for turl in team_season_url:\n",
        "        r=requests.get(turl)\n",
        "        soup=BeautifulSoup(r.content, \"html.parser\")\n",
        "        soup.find(\"div\", {\"id\":\"all_stats_standard\"})\n",
        "        players = soup.find(\"tbody\").find_all(\"a\")\n",
        "        players = list(map(lambda x: x[\"href\"], players))\n",
        "        players = Filter(players, [\"/en/players/\"])\n",
        "        players = NOTFilter(players, [\"matchlogs\"])\n",
        "        player_url.append(list(map(lambda x: \"https://fbref.com\" + x, players)))\n",
        "        time.sleep(0.01)\n",
        "    player_url  = list(itertools.chain(*player_url))\n",
        "    return player_url\n",
        "\n",
        "player_url = fbref_player_url(team_season_url)"
      ],
      "metadata": {
        "id": "3E9EDkR4vSJo"
      },
      "execution_count": null,
      "outputs": []
    },
    {
      "cell_type": "code",
      "source": [
        "def fbref_player_info(player_url):\n",
        "    player_info = []\n",
        "    for completed, i in enumerate(player_url):\n",
        "\n",
        "        # PlayerId\n",
        "        playerId = i.replace(\"https://fbref.com/en/players/\", \"\").split(\"/\")[0]\n",
        "\n",
        "        # Request\n",
        "        r=requests.get(i)\n",
        "        soup=BeautifulSoup(r.content, \"html.parser\")\n",
        "\n",
        "        # Meta\n",
        "        meta = soup.find(\"div\", {\"id\":\"meta\"})\n",
        "\n",
        "        # Player Name\n",
        "\n",
        "        tmp = soup.find(\"h1\").find(\"span\")\n",
        "\n",
        "        if tmp is None: continue\n",
        "\n",
        "        playerName = tmp.get_text()\n",
        "\n",
        "        # Player Photos\n",
        "        try:\n",
        "            photo = soup.find(\"div\", {\"class\":\"media-item\"}).find(\"img\").attrs[\"src\"]\n",
        "        except:\n",
        "            photo = np.nan\n",
        "\n",
        "        detail = meta.find_all(\"p\")\n",
        "\n",
        "        # Player Full Name\n",
        "        if len(Filter([detail[0].text], [\"Position\", \"Club\", \"Born\", \"National Team\", \"Citizenship\"])) > 0:\n",
        "                playerFullName = np.nan\n",
        "        else:\n",
        "            playerFullName = detail[0].get_text()\n",
        "\n",
        "        # Data Frame\n",
        "        temp = pd.DataFrame({\n",
        "            \"FBRefId\":[playerId],\n",
        "            \"PlayerName\":[playerName],\n",
        "            \"PlayerFullName\":[playerFullName],\n",
        "            # \"Nationality\":[nationality],\n",
        "            \"Photo\":[photo],\n",
        "            # \"Birth\":[birth],\n",
        "            # \"Height\":[height],\n",
        "            # \"Weight\":[weight],\n",
        "            # \"Position\":[position],\n",
        "            # \"Foot\":[foot],\n",
        "            # \"FootAbility\":[foot_ability],\n",
        "            # \"InternationalReputation\":[ir],\n",
        "            # \"PlayerUrl\":[i],\n",
        "            # \"Twitter\":[tw],\n",
        "            # \"Instagram\":[ins]\n",
        "        })    \n",
        "\n",
        "        temp[\"PlayerFullName\"] = np.where(temp.PlayerFullName.isnull(), temp.PlayerName, temp.PlayerFullName)\n",
        "\n",
        "        player_info.append(temp)\n",
        "\n",
        "        # Print Message\n",
        "        sys.stdout.write(\"\\r{0} players have just scraped from FBRef!\".format(completed+1))\n",
        "        sys.stdout.flush()\n",
        "\n",
        "        # System Sleep\n",
        "        time.sleep(0.01) \n",
        "\n",
        "    # Write Player Info\n",
        "    player_info = pd.concat(player_info)\n",
        "    \n",
        "    return player_info \n",
        "\n",
        "player_info = fbref_player_info(player_url[:5000])"
      ],
      "metadata": {
        "colab": {
          "base_uri": "https://localhost:8080/"
        },
        "id": "kEahOs-7vcHp",
        "outputId": "d2d567bd-a24b-47d5-bb5e-33057a6c1785"
      },
      "execution_count": null,
      "outputs": [
        {
          "output_type": "stream",
          "name": "stdout",
          "text": [
            "5000 players have just scraped from FBRef!"
          ]
        }
      ]
    },
    {
      "cell_type": "code",
      "source": [
        "player_info_0 = fbref_player_info(player_url[:5000])\n",
        "print('0 done')\n",
        "player_info_1 = fbref_player_info(player_url[5000:10000])\n",
        "print('1 done')"
      ],
      "metadata": {
        "id": "kRwf3p_6aS58"
      },
      "execution_count": null,
      "outputs": []
    },
    {
      "cell_type": "code",
      "source": [
        "player_info_2 = fbref_player_info(player_url[10000:15000])\n",
        "print('2 done')\n",
        "player_info_3 = fbref_player_info(player_url[15000:])\n",
        "print('3 done')"
      ],
      "metadata": {
        "colab": {
          "base_uri": "https://localhost:8080/"
        },
        "id": "Swx2eQMXWGE1",
        "outputId": "7ffc0222-d38e-4a4b-943d-ddba7ceb881d"
      },
      "execution_count": null,
      "outputs": [
        {
          "output_type": "stream",
          "name": "stdout",
          "text": [
            "5000 players have just scraped from FBRef!2 done\n",
            "1176 players have just scraped from FBRef!3 done\n"
          ]
        }
      ]
    },
    {
      "cell_type": "code",
      "source": [
        "# df_photos = pd.concat([player_info_0, player_info_1, player_info_2, player_info_3]).to_csv('photos.csv')\n",
        "df_photos = pd.concat([player_info_0, player_info_1, player_info_2, player_info_3])"
      ],
      "metadata": {
        "id": "DJOCa64UBe_b"
      },
      "execution_count": null,
      "outputs": []
    },
    {
      "cell_type": "code",
      "source": [
        "df_photos.head()"
      ],
      "metadata": {
        "colab": {
          "base_uri": "https://localhost:8080/",
          "height": 206
        },
        "id": "6Twr2rCJe6th",
        "outputId": "1eb90b91-ef97-42c1-8641-5f7d9a35e4cf"
      },
      "execution_count": null,
      "outputs": [
        {
          "output_type": "execute_result",
          "data": {
            "text/html": [
              "\n",
              "  <div id=\"df-4904ca46-c6f6-44a3-bdc5-cf2baf4ed7fd\">\n",
              "    <div class=\"colab-df-container\">\n",
              "      <div>\n",
              "<style scoped>\n",
              "    .dataframe tbody tr th:only-of-type {\n",
              "        vertical-align: middle;\n",
              "    }\n",
              "\n",
              "    .dataframe tbody tr th {\n",
              "        vertical-align: top;\n",
              "    }\n",
              "\n",
              "    .dataframe thead th {\n",
              "        text-align: right;\n",
              "    }\n",
              "</style>\n",
              "<table border=\"1\" class=\"dataframe\">\n",
              "  <thead>\n",
              "    <tr style=\"text-align: right;\">\n",
              "      <th></th>\n",
              "      <th>FBRefId</th>\n",
              "      <th>PlayerName</th>\n",
              "      <th>PlayerFullName</th>\n",
              "      <th>Photo</th>\n",
              "    </tr>\n",
              "  </thead>\n",
              "  <tbody>\n",
              "    <tr>\n",
              "      <th>0</th>\n",
              "      <td>3bb7b8b4</td>\n",
              "      <td>Ederson</td>\n",
              "      <td>Ederson Santana de Moraes</td>\n",
              "      <td>https://fbref.com/req/202005121/images/headsho...</td>\n",
              "    </tr>\n",
              "    <tr>\n",
              "      <th>0</th>\n",
              "      <td>bd6351cd</td>\n",
              "      <td>João Cancelo</td>\n",
              "      <td>João Pedro Cavaco Cancelo</td>\n",
              "      <td>https://fbref.com/req/202005121/images/headsho...</td>\n",
              "    </tr>\n",
              "    <tr>\n",
              "      <th>0</th>\n",
              "      <td>3eb22ec9</td>\n",
              "      <td>Bernardo Silva</td>\n",
              "      <td>Bernardo Mota Veiga de Carvalho e Silva</td>\n",
              "      <td>https://fbref.com/req/202005121/images/headsho...</td>\n",
              "    </tr>\n",
              "    <tr>\n",
              "      <th>0</th>\n",
              "      <td>31c69ef1</td>\n",
              "      <td>Rúben Dias</td>\n",
              "      <td>Rúben Dias</td>\n",
              "      <td>https://fbref.com/req/202005121/images/headsho...</td>\n",
              "    </tr>\n",
              "    <tr>\n",
              "      <th>0</th>\n",
              "      <td>6434f10d</td>\n",
              "      <td>Rodri</td>\n",
              "      <td>Rodrigo Hernández Cascante</td>\n",
              "      <td>https://fbref.com/req/202005121/images/headsho...</td>\n",
              "    </tr>\n",
              "  </tbody>\n",
              "</table>\n",
              "</div>\n",
              "      <button class=\"colab-df-convert\" onclick=\"convertToInteractive('df-4904ca46-c6f6-44a3-bdc5-cf2baf4ed7fd')\"\n",
              "              title=\"Convert this dataframe to an interactive table.\"\n",
              "              style=\"display:none;\">\n",
              "        \n",
              "  <svg xmlns=\"http://www.w3.org/2000/svg\" height=\"24px\"viewBox=\"0 0 24 24\"\n",
              "       width=\"24px\">\n",
              "    <path d=\"M0 0h24v24H0V0z\" fill=\"none\"/>\n",
              "    <path d=\"M18.56 5.44l.94 2.06.94-2.06 2.06-.94-2.06-.94-.94-2.06-.94 2.06-2.06.94zm-11 1L8.5 8.5l.94-2.06 2.06-.94-2.06-.94L8.5 2.5l-.94 2.06-2.06.94zm10 10l.94 2.06.94-2.06 2.06-.94-2.06-.94-.94-2.06-.94 2.06-2.06.94z\"/><path d=\"M17.41 7.96l-1.37-1.37c-.4-.4-.92-.59-1.43-.59-.52 0-1.04.2-1.43.59L10.3 9.45l-7.72 7.72c-.78.78-.78 2.05 0 2.83L4 21.41c.39.39.9.59 1.41.59.51 0 1.02-.2 1.41-.59l7.78-7.78 2.81-2.81c.8-.78.8-2.07 0-2.86zM5.41 20L4 18.59l7.72-7.72 1.47 1.35L5.41 20z\"/>\n",
              "  </svg>\n",
              "      </button>\n",
              "      \n",
              "  <style>\n",
              "    .colab-df-container {\n",
              "      display:flex;\n",
              "      flex-wrap:wrap;\n",
              "      gap: 12px;\n",
              "    }\n",
              "\n",
              "    .colab-df-convert {\n",
              "      background-color: #E8F0FE;\n",
              "      border: none;\n",
              "      border-radius: 50%;\n",
              "      cursor: pointer;\n",
              "      display: none;\n",
              "      fill: #1967D2;\n",
              "      height: 32px;\n",
              "      padding: 0 0 0 0;\n",
              "      width: 32px;\n",
              "    }\n",
              "\n",
              "    .colab-df-convert:hover {\n",
              "      background-color: #E2EBFA;\n",
              "      box-shadow: 0px 1px 2px rgba(60, 64, 67, 0.3), 0px 1px 3px 1px rgba(60, 64, 67, 0.15);\n",
              "      fill: #174EA6;\n",
              "    }\n",
              "\n",
              "    [theme=dark] .colab-df-convert {\n",
              "      background-color: #3B4455;\n",
              "      fill: #D2E3FC;\n",
              "    }\n",
              "\n",
              "    [theme=dark] .colab-df-convert:hover {\n",
              "      background-color: #434B5C;\n",
              "      box-shadow: 0px 1px 3px 1px rgba(0, 0, 0, 0.15);\n",
              "      filter: drop-shadow(0px 1px 2px rgba(0, 0, 0, 0.3));\n",
              "      fill: #FFFFFF;\n",
              "    }\n",
              "  </style>\n",
              "\n",
              "      <script>\n",
              "        const buttonEl =\n",
              "          document.querySelector('#df-4904ca46-c6f6-44a3-bdc5-cf2baf4ed7fd button.colab-df-convert');\n",
              "        buttonEl.style.display =\n",
              "          google.colab.kernel.accessAllowed ? 'block' : 'none';\n",
              "\n",
              "        async function convertToInteractive(key) {\n",
              "          const element = document.querySelector('#df-4904ca46-c6f6-44a3-bdc5-cf2baf4ed7fd');\n",
              "          const dataTable =\n",
              "            await google.colab.kernel.invokeFunction('convertToInteractive',\n",
              "                                                     [key], {});\n",
              "          if (!dataTable) return;\n",
              "\n",
              "          const docLinkHtml = 'Like what you see? Visit the ' +\n",
              "            '<a target=\"_blank\" href=https://colab.research.google.com/notebooks/data_table.ipynb>data table notebook</a>'\n",
              "            + ' to learn more about interactive tables.';\n",
              "          element.innerHTML = '';\n",
              "          dataTable['output_type'] = 'display_data';\n",
              "          await google.colab.output.renderOutput(dataTable, element);\n",
              "          const docLink = document.createElement('div');\n",
              "          docLink.innerHTML = docLinkHtml;\n",
              "          element.appendChild(docLink);\n",
              "        }\n",
              "      </script>\n",
              "    </div>\n",
              "  </div>\n",
              "  "
            ],
            "text/plain": [
              "    FBRefId      PlayerName                           PlayerFullName  \\\n",
              "0  3bb7b8b4         Ederson                Ederson Santana de Moraes   \n",
              "0  bd6351cd    João Cancelo                João Pedro Cavaco Cancelo   \n",
              "0  3eb22ec9  Bernardo Silva  Bernardo Mota Veiga de Carvalho e Silva   \n",
              "0  31c69ef1      Rúben Dias                               Rúben Dias   \n",
              "0  6434f10d           Rodri               Rodrigo Hernández Cascante   \n",
              "\n",
              "                                               Photo  \n",
              "0  https://fbref.com/req/202005121/images/headsho...  \n",
              "0  https://fbref.com/req/202005121/images/headsho...  \n",
              "0  https://fbref.com/req/202005121/images/headsho...  \n",
              "0  https://fbref.com/req/202005121/images/headsho...  \n",
              "0  https://fbref.com/req/202005121/images/headsho...  "
            ]
          },
          "metadata": {},
          "execution_count": 25
        }
      ]
    },
    {
      "cell_type": "code",
      "source": [
        "df_top5 = pd.read_csv('top5.csv', index_col=False)"
      ],
      "metadata": {
        "id": "ttiB4CjJeh49"
      },
      "execution_count": null,
      "outputs": []
    },
    {
      "cell_type": "code",
      "source": [
        "df_top5 = df_top5[list(df_top5.columns)[1:]]"
      ],
      "metadata": {
        "id": "dT0UMknahBE1"
      },
      "execution_count": null,
      "outputs": []
    },
    {
      "cell_type": "code",
      "source": [
        "photos = []\n",
        "\n",
        "for name in list(df_top5.player):\n",
        "\n",
        "    tmp = list(df_photos[df_photos.PlayerName == name].Photo)\n",
        "\n",
        "    if len(tmp) == 0:\n",
        "        photos.append(\"\")\n",
        "    else:\n",
        "        photos.append(tmp[0])"
      ],
      "metadata": {
        "id": "p20gePlxe2GV"
      },
      "execution_count": null,
      "outputs": []
    },
    {
      "cell_type": "code",
      "source": [
        "df_top5[\"photo\"] = photos"
      ],
      "metadata": {
        "id": "WZo1EHABe3TO"
      },
      "execution_count": null,
      "outputs": []
    },
    {
      "cell_type": "code",
      "source": [
        "list(df_top5[df_top5.player == \"Robert Lewandowski\"].photo)"
      ],
      "metadata": {
        "colab": {
          "base_uri": "https://localhost:8080/"
        },
        "id": "S6AFlXBKgelO",
        "outputId": "bb706ee8-fd1c-4061-993a-67f3ed08edf8"
      },
      "execution_count": null,
      "outputs": [
        {
          "output_type": "execute_result",
          "data": {
            "text/plain": [
              "['https://fbref.com/req/202005121/images/headshots/8d78e732_2018.jpg']"
            ]
          },
          "metadata": {},
          "execution_count": 58
        }
      ]
    },
    {
      "cell_type": "code",
      "source": [
        "df_top5.to_csv('top5_with_photos.csv')"
      ],
      "metadata": {
        "id": "gr6VB_TFfi4y"
      },
      "execution_count": null,
      "outputs": []
    }
  ]
}