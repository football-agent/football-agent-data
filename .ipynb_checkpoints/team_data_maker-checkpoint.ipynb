{
 "cells": [
  {
   "cell_type": "code",
   "execution_count": 2,
   "metadata": {
    "id": "no2vS8hMwOKt"
   },
   "outputs": [],
   "source": [
    "import pandas as pd\n",
    "import numpy as np\n",
    "import requests\n",
    "from bs4 import BeautifulSoup\n",
    "headers = {'User-Agent': \n",
    "           'Mozilla/5.0 (X11; Linux x86_64) AppleWebKit/537.36 (KHTML, like Gecko) Chrome/47.0.2526.106 Safari/537.36'}"
   ]
  },
  {
   "cell_type": "code",
   "execution_count": 3,
   "metadata": {
    "id": "BCRMZZWltIrE"
   },
   "outputs": [],
   "source": [
    "# FBREF, SoccerPrime, FIFA22\n",
    "\n",
    "# SoccerPrime is the naming standard\n",
    "\n",
    "la_liga_teams = [\n",
    "    ('Real Madrid','Real Madrid','Real Madrid CF'), \n",
    "    ('Atlético Madrid','Atletico Madrid','Atlético de Madrid'), \n",
    "    ('Real Sociedad','Real Sociedad','Real Sociedad'), \n",
    "    ('Sevilla','Sevilla FC','Sevilla FC'), \n",
    "    ('Betis','Real Betis','Real Betis Balompié'), \n",
    "    # ('Rayo Vallecano',,'Rayo Vallecano'),#\n",
    "    ('Barcelona', 'FC Barcelona','FC Barcelona'),\n",
    "    ('Athletic Club','Athletic Bilbao','Athletic Club de Bilbao'),\n",
    "    # ('Espanyol',,'RCD Espanyol de Barcelona'),#\n",
    "    ('Osasuna','CA Osasuna','CA Osasuna'),\n",
    "    ('Valencia','Valencia CF','Valencia CF'),\n",
    "    ('Villarreal','Villarreal CF','Villarreal CF'),\n",
    "    ('Celta Vigo','Celta Vigo','RC Celta de Vigo'),\n",
    "    # ('Mallorca',,'RCD Mallorca'),#\n",
    "    ('Alavés','Deportivo Alaves','Deportivo Alavés'),\n",
    "    ('Granada','Granada CF','Granada CF'),\n",
    "    ('Elche','Elche CF','Elche CF'),\n",
    "    ('Cádiz','Cádiz CF','Cádiz CF'),\n",
    "    ('Getafe','Getafe CF','Getafe CF'),\n",
    "    ('Levante','Levante UD','Levante Unión Deportiva'),\n",
    "]"
   ]
  },
  {
   "cell_type": "code",
   "execution_count": 4,
   "metadata": {
    "id": "LuW3pOzv8DLE"
   },
   "outputs": [],
   "source": [
    "def read_and_clean_data():\n",
    "    df_players = pd.read_csv('players-2.csv') # data about the field players\n",
    "    df_keepers = pd.read_csv('keepers-2.csv') # data about the keepers\n",
    "    df_fifa = pd.read_csv('players_22.csv') # statistics from FIFA22\n",
    "\n",
    "    # desired values from the field players\n",
    "    df_players = df_players[[\n",
    "            'season', 'player', 'position', 'squad', 'age', \n",
    "            'games', 'minutes', 'goals', 'assists', \n",
    "            'cards_yellow', 'cards_red'\n",
    "    ]]\n",
    "\n",
    "    # removing the days in age of the players\n",
    "    age_data = []\n",
    "    for age in np.array(df_players.age):\n",
    "        if isinstance(age, int):\n",
    "            age_data.append(age)\n",
    "        else:\n",
    "            age_data.append(int(age[:2]))\n",
    "\n",
    "    df_players[\"age\"] = np.array(age_data)\n",
    "\n",
    "    # for consistency of the team names\n",
    "    for team in la_liga_teams:\n",
    "        df_players = df_players.replace(team[0], team[1])\n",
    "    for team in la_liga_teams:\n",
    "        df_fifa = df_fifa.replace(team[2], team[1])\n",
    "\n",
    "    return df_players, df_keepers, df_fifa"
   ]
  },
  {
   "cell_type": "code",
   "execution_count": 5,
   "metadata": {
    "id": "VEux3TuX9m2c"
   },
   "outputs": [],
   "source": [
    "def get_fifa_data(df_fifa, df_team, team_name):\n",
    "\n",
    "    def data_check(array, value):\n",
    "        if len(np.array(value)) > 0:\n",
    "            array.append(np.array(value)[0])\n",
    "        else:\n",
    "            array.append(np.nan)\n",
    "\n",
    "        return array\n",
    "\n",
    "    overall_values = []\n",
    "    potential_values = []\n",
    "\n",
    "    pace_values = []\n",
    "    shooting_values = []\n",
    "    passing_values = []\n",
    "    dribbling_values = []\n",
    "    defending_values = []\n",
    "    physic_values = []\n",
    "\n",
    "    base = r'^{}'\n",
    "    expr = '(?=.*{})'\n",
    "\n",
    "    for name in np.array(df_team.player):\n",
    "        names = name.split(' ')\n",
    "        b = base.format(''.join(expr.format(w) for w in names))\n",
    "\n",
    "        player = df_fifa[df_fifa.long_name.str.contains(b) & \n",
    "                        (df_fifa.club_name == team_name)]\n",
    "        \n",
    "        overall_values = data_check(overall_values, player.overall)\n",
    "        potential_values = data_check(potential_values, player.potential)\n",
    "                                      \n",
    "        pace_values = data_check(pace_values, player.pace)\n",
    "        shooting_values = data_check(shooting_values, player.shooting)\n",
    "        passing_values = data_check(passing_values, player.passing)\n",
    "        dribbling_values = data_check(dribbling_values, player.dribbling)\n",
    "        defending_values = data_check(defending_values, player.defending)\n",
    "        physic_values = data_check(physic_values, player.physic)\n",
    "\n",
    "    df_team[\"overall\"] = overall_values\n",
    "    df_team[\"potential\"] = potential_values\n",
    "\n",
    "    df_team[\"pace\"] = pace_values\n",
    "    df_team[\"shooting\"] = shooting_values\n",
    "    df_team[\"passing\"] = passing_values\n",
    "    df_team[\"dribbling\"] = dribbling_values\n",
    "    df_team[\"defending\"] = defending_values\n",
    "    df_team[\"physic\"] = physic_values \n",
    "\n",
    "    return df_team"
   ]
  },
  {
   "cell_type": "markdown",
   "metadata": {
    "id": "6UhoEHXIYyWt"
   },
   "source": [
    "### JSON maker"
   ]
  },
  {
   "cell_type": "code",
   "execution_count": 9,
   "metadata": {
    "id": "jQO5DlTQ71QT"
   },
   "outputs": [],
   "source": [
    "import json\n",
    "\n",
    "# makes JSON file for our MongoDB database\n",
    "def make_json(df_team, team_name, file_name):\n",
    "\n",
    "    players = df_team.T.to_dict()\n",
    "\n",
    "    team = [players[key] for key in players]\n",
    "\n",
    "    final_object = {\n",
    "        'team': team_name,\n",
    "        'players': team\n",
    "    }\n",
    "        \n",
    "    with open(file_name, \"w\") as outfile:\n",
    "        json.dump(final_object, outfile)"
   ]
  },
  {
   "cell_type": "code",
   "execution_count": 7,
   "metadata": {},
   "outputs": [],
   "source": [
    "def getSalaries(page):\n",
    "    #page = 'https://soccerprime.com/fc-barcelona-player-salaries/'\n",
    "    tree = requests.get(page, headers = headers)\n",
    "    soup = BeautifulSoup(tree.content, 'html.parser')\n",
    "    table = soup.find_all(\"table\")\n",
    "    playerSalaries = {}\n",
    "\n",
    "    for index, i in enumerate(table):\n",
    "        #print(index)\n",
    "        #print(i)\n",
    "        #print(\"–––––––––––––\")\n",
    "        #print(i.find_all(\"td\"))\n",
    "        counter = 0\n",
    "        temp = i.find_all(\"td\")\n",
    "        while counter < len(temp):\n",
    "            name = str(temp[counter])[len(\"<td>\"):-len(\"<td>\")-1]\n",
    "            counter += 2\n",
    "            salary = str(temp[counter])[len(\"<td>\"):-len(\"<td>\")-1]\n",
    "            counter += 1\n",
    "            #print(\"name: \", name, \"salary\", salary)\n",
    "            playerSalaries[name] = salary\n",
    "\n",
    "\n",
    "        #for index2, j in enumerate(i.find_all(\"td\")):\n",
    "         #   print(\"a\")\n",
    "\n",
    "            #print(index2, index2%3, j)\n",
    "    #print(playerSalaries)\n",
    "    #print(\"done\")\n",
    "    return playerSalaries"
   ]
  },
  {
   "cell_type": "code",
   "execution_count": 8,
   "metadata": {
    "id": "bigEABBm8KbF"
   },
   "outputs": [],
   "source": [
    "def getTeamsSalaryPage():\n",
    "    page = 'https://soccerprime.com/la-liga-player-salaries/'\n",
    "    tree = requests.get(page, headers = headers)\n",
    "    soup = BeautifulSoup(tree.content, 'html.parser')\n",
    "    table = soup.find(\"table\")\n",
    "    #print(table)\n",
    "    teams = {}\n",
    "    last = \"\"\n",
    "    for index, j in enumerate(table.find_all(\"td\")):\n",
    "        if index % 3 == 0:\n",
    "            array = j.find(\"a\")\n",
    "            link = array[\"href\"]\n",
    "            name = array.string.replace(\"é\", \"e\")\n",
    "            last = name + \"@\"\n",
    "            last += link + \"@\"\n",
    "        if index % 3 == 2:\n",
    "            last += j.string\n",
    "            lastString = last.split (\"@\")\n",
    "            teams[lastString[0]] = [lastString[1], lastString[2], getSalaries(link)] # ex: {Elche: [link, totalcontractvalue]}\n",
    "            #print(\"appending: \", lastTuple)\n",
    "            \n",
    "        #name = \"\"\n",
    "    return teams\n",
    "\n",
    "def getSingleTeamsPage(team_name=None):\n",
    "    \n",
    "    page = 'https://soccerprime.com/la-liga-player-salaries/'\n",
    "    tree = requests.get(page, headers = headers)\n",
    "    soup = BeautifulSoup(tree.content, 'html.parser')\n",
    "    table = soup.find(\"table\")\n",
    "    #print(table)\n",
    "    teams = {}\n",
    "    last = \"\"\n",
    "    for index, j in enumerate(table.find_all(\"td\")):\n",
    "        if index % 3 == 0:\n",
    "            array = j.find(\"a\")\n",
    "            name = array.string.replace(\"é\", \"e\")\n",
    "            link = array[\"href\"]\n",
    "            last = name + \"@\"\n",
    "            last += link + \"@\"\n",
    "        if index % 3 == 2:\n",
    "            last += j.string\n",
    "            lastString = last.split (\"@\")\n",
    "            teams[lastString[0]] = [lastString[1], lastString[2]] # ex: {Elche: [link, totalcontractvalue]}\n",
    "            #print(\"appending: \", lastTuple)\n",
    "    \n",
    "    \n",
    "    for i in teams.keys():\n",
    "        if team_name is not None and i != team_name:\n",
    "            continue\n",
    "        teams[i].append(getSalaries(teams[i][0]))\n",
    "        #name = \"\"\n",
    "    return teams\n"
   ]
  },
  {
   "cell_type": "code",
   "execution_count": 9,
   "metadata": {},
   "outputs": [],
   "source": [
    "def addSalaries(df, teamsSalary):\n",
    "    salaries = [\"-\"]*(df.shape[0])\n",
    "      \n",
    "    for index, i in enumerate(df.iterrows()):\n",
    "        #print(index/df.shape[0]*100)\n",
    "        team = i[1].squad\n",
    "        name = i[1].player\n",
    "                #print(\"in\")\n",
    "        \n",
    "        if name in teamsSalary.keys():                \n",
    "            salaries[index] = teamsSalary[name]\n",
    "        \n",
    "    #print(salaries)\n",
    "    df[\"salaries\"] = salaries\n",
    "    return df"
   ]
  },
  {
   "cell_type": "code",
   "execution_count": 10,
   "metadata": {},
   "outputs": [],
   "source": [
    "def get_teamTemp(season, team_name):\n",
    "\n",
    "    df_players, df_keepers, df_fifa = read_and_clean_data()\n",
    "    \n",
    "    df_team = df_players[df_players[\"squad\"].str.contains(team_name, na=True)]\n",
    "    \n",
    "    df_team = df_team[df_team.season == season]\n",
    "    \n",
    "    df_team = get_fifa_data(df_fifa, df_team, team_name)\n",
    "    \n",
    "    return df_team"
   ]
  },
  {
   "cell_type": "code",
   "execution_count": 11,
   "metadata": {},
   "outputs": [],
   "source": [
    "def addTeamSalaries(df, team_name):\n",
    "    teamsSalaries = getSingleTeamsPage(team_name) #computing for all teams\n",
    "    #print(teamsSalaries)\n",
    "    df_team_with_salaries = addSalaries(df, getTeamsSalaryPage()[team_name][2])\n",
    "    return df_team_with_salaries\n",
    "\n"
   ]
  },
  {
   "cell_type": "code",
   "execution_count": 12,
   "metadata": {},
   "outputs": [],
   "source": [
    "def get_team(season, team_name):\n",
    "\n",
    "    df_players, df_keepers, df_fifa = read_and_clean_data()\n",
    "\n",
    "    df_team = df_players[df_players[\"squad\"].str.contains(team_name, na=True)]\n",
    "    df_team = df_team[df_team.season == season]\n",
    "\n",
    "    df_team = get_fifa_data(df_fifa, df_team, team_name)\n",
    "    #print(\"df before salaries is: \", df_team)\n",
    "    df_team = addTeamSalaries(df_team, team_name)\n",
    "    \n",
    "    return df_team"
   ]
  },
  {
   "cell_type": "code",
   "execution_count": 14,
   "metadata": {},
   "outputs": [
    {
     "name": "stderr",
     "output_type": "stream",
     "text": [
      "<ipython-input-12-6158fda5cabc>:3: DtypeWarning: Columns (5) have mixed types.Specify dtype option on import or set low_memory=False.\n",
      "  df_players, df_keepers, df_fifa = read_and_clean_data()\n",
      "<ipython-input-12-6158fda5cabc>:3: DtypeWarning: Columns (25,108) have mixed types.Specify dtype option on import or set low_memory=False.\n",
      "  df_players, df_keepers, df_fifa = read_and_clean_data()\n"
     ]
    }
   ],
   "source": [
    "df_barça = get_team(2021, \"FC Barcelona\")\n"
   ]
  },
  {
   "cell_type": "code",
   "execution_count": 20,
   "metadata": {},
   "outputs": [
    {
     "data": {
      "text/plain": [
       "array(['Jordi Alba', 'Carles Aleñá', 'Ronald Araújo',\n",
       "       'Martin Braithwaite', 'Sergio Busquets', 'Philippe Coutinho',\n",
       "       'Ousmane Dembélé', 'Sergiño Dest', 'Ansu Fati', 'Junior Firpo',\n",
       "       'Antoine Griezmann', 'Ilaix', 'Frenkie de Jong', 'Clément Lenglet',\n",
       "       'Lionel Messi', 'Óscar Mingueza', 'Pedri', 'Gerard Piqué',\n",
       "       'Miralem Pjanić', 'Riqui Puig', 'Sergi Roberto',\n",
       "       'Francisco Trincão', 'Samuel Umtiti'], dtype=object)"
      ]
     },
     "execution_count": 20,
     "metadata": {},
     "output_type": "execute_result"
    }
   ],
   "source": [
    "df_barça.player.values\n",
    "\n"
   ]
  },
  {
   "cell_type": "code",
   "execution_count": 46,
   "metadata": {},
   "outputs": [],
   "source": [
    "page = 'https://www.transfermarkt.co.uk/laliga/startseite/wettbewerb/ES1'\n",
    "tree = requests.get(page, headers = headers)\n",
    "soup = BeautifulSoup(tree.content, 'html.parser')\n",
    "\n",
    "def get_players_link(page):\n",
    "    pageTree = requests.get(page, headers = headers)\n",
    "    pageSoup = BeautifulSoup(pageTree.content, 'html.parser')\n",
    "\n",
    "\n",
    "    PlayersLink = {}\n",
    "\n",
    "    playershtml = pageSoup.find_all(\"td\", {\"class\": \"hauptlink\"})\n",
    "    #print(pageSoup)\n",
    "    players = int(str(pageSoup.find(\"span\", {\"class\" : \"dataValue\"}))[len(\"<span class='dataValue'>\"): -len(\"</span>\")])\n",
    "    \n",
    "    for i, v in enumerate(playershtml[:(2*players)]):\n",
    "        if i % 2 != 0:\n",
    "            continue\n",
    "            \n",
    "        link = \"https://www.transfermarkt.co.uk\" + v.find(\"a\")[\"href\"]\n",
    "        name = v.find(\"a\")[\"href\"].split(\"/\")[1].replace(\"-\", \" \")\n",
    "        PlayersLink[name] = link\n",
    "        \n",
    "    return PlayersLink\n",
    "\n",
    "def transfermarkt_get_teams():\n",
    "    #Create a dict of {teamName: [link, players_dict]}\n",
    "    teamLinks = {}\n",
    "    teams = set()\n",
    "    #Extract all links with the correct CSS selector\n",
    "    links = soup.select(\"a.vereinprofil_tooltip\")\n",
    "    for name in soup.find_all(\"td\", class_=\"zentriert no-border-rechts\"):\n",
    "\n",
    "        teams.add(name.find(\"a\")[\"title\"])\n",
    "\n",
    "        tempLink = \"https://www.transfermarkt.co.uk\"\n",
    "        if \"startseite\" in name.find(\"a\")[\"href\"]:\n",
    "            array = name.find(\"a\")[\"href\"].split(\"/\")[:5]\n",
    "            for i, val in enumerate(array):\n",
    "                if i < 5:\n",
    "                    tempLink += array[i] + \"/\"\n",
    "            teamLinks[name.find(\"a\")[\"title\"]] = [tempLink] \n",
    "    \n",
    "    for team in teamLinks:\n",
    "        link = teamLinks[team][0]\n",
    "        teamLinks[team].append(get_players_link(link))\n",
    "    return teamLinks\n",
    " \n",
    "teams = transfermarkt_get_teams()\n",
    "#get_players_link(\"https://www.transfermarkt.co.uk/real-madrid/startseite/verein/418/\")\n",
    "       "
   ]
  },
  {
   "cell_type": "code",
   "execution_count": 72,
   "metadata": {},
   "outputs": [
    {
     "name": "stdout",
     "output_type": "stream",
     "text": [
      "23\n",
      "16\n"
     ]
    }
   ],
   "source": [
    "import unidecode\n",
    "teams[\"FC Barcelona\"]\n",
    "print(len(df_barça.player.values))\n",
    "count = 0\n",
    "for i in df_barça.player.values:\n",
    "    name = unidecode.unidecode(i.lower())\n",
    "    for j in teams[\"FC Barcelona\"][1].keys():\n",
    "        nameDict = unidecode.unidecode(j.lower())\n",
    "        #print(  name == nameDict ,\"i:\", name, \"j\", nameDict)\n",
    "        if name == nameDict:\n",
    "            count+=1\n",
    "print(count)"
   ]
  },
  {
   "cell_type": "code",
   "execution_count": null,
   "metadata": {},
   "outputs": [],
   "source": []
  }
 ],
 "metadata": {
  "colab": {
   "collapsed_sections": [],
   "name": "team_data_maker.ipynb",
   "provenance": []
  },
  "kernelspec": {
   "display_name": "Python 3",
   "language": "python",
   "name": "python3"
  },
  "language_info": {
   "codemirror_mode": {
    "name": "ipython",
    "version": 3
   },
   "file_extension": ".py",
   "mimetype": "text/x-python",
   "name": "python",
   "nbconvert_exporter": "python",
   "pygments_lexer": "ipython3",
   "version": "3.9.5"
  }
 },
 "nbformat": 4,
 "nbformat_minor": 1
}
